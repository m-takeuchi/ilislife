{
 "cells": [
  {
   "cell_type": "code",
   "execution_count": 1,
   "metadata": {
    "collapsed": false
   },
   "outputs": [],
   "source": [
    "import numpy as np\n",
    "import pandas as pd\n",
    "import matplotlib.pyplot as plt\n",
    "from matplotlib import gridspec\n",
    "%matplotlib inline"
   ]
  },
  {
   "cell_type": "code",
   "execution_count": 2,
   "metadata": {
    "collapsed": false
   },
   "outputs": [
    {
     "name": "stdout",
     "output_type": "stream",
     "text": [
      "160725-143700.dat  160727-170139.dat  160727-174126.dat  160727-182305.dat\r\n",
      "160725-143859.dat  160727-170517.dat  160727-174357.dat  160727-182506.dat\r\n",
      "160725-143953.dat  160727-170633.dat  160727-175808.dat  160729-162421.dat\r\n",
      "160725-144223.dat  160727-171000.dat  160727-180436.dat  160729-162437.dat\r\n",
      "160725-144326.dat  160727-171220.dat  160727-180527.dat  160801-113539.dat\r\n",
      "160725-151154.dat  160727-172935.dat  160727-181131.dat  160801-120813.dat\r\n",
      "160725-174600.dat  160727-173142.dat  160727-181241.dat  Untitled.ipynb\r\n",
      "160725-175032.dat  160727-173637.dat  160727-181932.dat\r\n",
      "160725-180708.dat  160727-173723.dat  160727-182214.dat\r\n"
     ]
    }
   ],
   "source": [
    "ls data"
   ]
  },
  {
   "cell_type": "code",
   "execution_count": 3,
   "metadata": {
    "collapsed": false
   },
   "outputs": [],
   "source": [
    "# datafile = 'data/160725-171642.dat'\n",
    "# datafile = 'data/160720-190506.dat'\n",
    "datafile = 'data/160729-162437.dat'\n",
    "base = datafile.rsplit('.dat')[0]\n",
    "pdffile = base+'.pdf'\n",
    "jpgfile = base+'.jpg'"
   ]
  },
  {
   "cell_type": "code",
   "execution_count": 4,
   "metadata": {
    "collapsed": false
   },
   "outputs": [],
   "source": [
    "data = pd.read_csv(datafile, delimiter='\\t', comment='#',names=['date','time','Ve','Ig','Ic'],\\\n",
    "           dtype={'Ve':'float64','Ig':'float64','Ic':'float64'})"
   ]
  },
  {
   "cell_type": "code",
   "execution_count": 12,
   "metadata": {
    "collapsed": false
   },
   "outputs": [],
   "source": [
    "### Omit abnormal data\n",
    "\n",
    "ignore1 = data['Ig'].abs() > 1e+10\n",
    "ignore2 = data['Ic'] > 1e+10\n",
    "# data[(ignore1 | ignore2) == False]\n",
    "data = data[(ignore1 | ignore2) == False]"
   ]
  },
  {
   "cell_type": "code",
   "execution_count": 13,
   "metadata": {
    "collapsed": false
   },
   "outputs": [
    {
     "data": {
      "text/plain": [
       "[<matplotlib.lines.Line2D at 0x7f71c9a1eeb8>]"
      ]
     },
     "execution_count": 13,
     "metadata": {},
     "output_type": "execute_result"
    },
    {
     "data": {
      "image/png": "[encoded data removed]",
      "text/plain": [
       "<matplotlib.figure.Figure at 0x7f71c9ae4160>"
      ]
     },
     "metadata": {},
     "output_type": "display_data"
    }
   ],
   "source": [
    "# fig = plt.figure()\n",
    "gs = gridspec.GridSpec(2, 1, height_ratios=[1, 3])\n",
    "# ax1 = fig.add_subplot(211)\n",
    "# ax2 = fig.add_subplot(212)\n",
    "ax1 = plt.subplot(gs[0])\n",
    "ax2 = plt.subplot(gs[1])\n",
    "\n",
    "\n",
    "\n",
    "\n",
    "time_h = data['time']/3600\n",
    "\n",
    "ax1.set_ylabel('Ve (kV)')\n",
    "ax1.set_ylim(0,10)\n",
    "ax1.set_xticklabels('')\n",
    "ax2.set_ylabel('Ig, Ic (1e-5*V)')\n",
    "ax2.set_xlabel('Time (h)')\n",
    "\n",
    "ax1.plot(time_h, data['Ve']/1e3, 'k-')\n",
    "ax2.plot(time_h, data['Ig']/1e5, 'g-')\n",
    "ax2.plot(time_h, data['Ic']/1e5, 'b-')\n",
    "\n",
    "# plt.savefig(pdffile)\n",
    "# plt.savefig(jpgfile)"
   ]
  },
  {
   "cell_type": "code",
   "execution_count": 16,
   "metadata": {
    "collapsed": false
   },
   "outputs": [
    {
     "data": {
      "text/plain": [
       "-0.00021236487000000001"
      ]
     },
     "execution_count": 16,
     "metadata": {},
     "output_type": "execute_result"
    }
   ],
   "source": [
    "data['Ig'].sum()*1e-5"
   ]
  },
  {
   "cell_type": "code",
   "execution_count": null,
   "metadata": {
    "collapsed": true
   },
   "outputs": [],
   "source": []
  }
 ],
 "metadata": {
  "kernelspec": {
   "display_name": "Python 3",
   "language": "python",
   "name": "python3"
  },
  "language_info": {
   "codemirror_mode": {
    "name": "ipython",
    "version": 3
   },
   "file_extension": ".py",
   "mimetype": "text/x-python",
   "name": "python",
   "nbconvert_exporter": "python",
   "pygments_lexer": "ipython3",
   "version": "3.5.2"
  }
 },
 "nbformat": 4,
 "nbformat_minor": 0
}
